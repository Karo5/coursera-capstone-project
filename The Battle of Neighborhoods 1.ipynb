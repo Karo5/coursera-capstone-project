{
 "cells": [
  {
   "cell_type": "markdown",
   "metadata": {},
   "source": [
    "Business Problem"
   ]
  },
  {
   "cell_type": "markdown",
   "metadata": {},
   "source": [
    "In my final project we want to explore the Moscow and Yerevan city neighborhoods.\n",
    "\n",
    "We have formed following task: suppose we are representing a consulting agency that helps businesses and individuals to find right location for their business and living.\n",
    "\n",
    "We had an order from a person who wants to relocate from Moscow (Russian Federation) to Yerevan (Republic of Armenia) and want to find relevant location for buying an apartment. The best location for him will be place that is maximum similar with his Moscow apartment neighborhoods (Marino - district of South-Eastern Administrative region of the federal city of Moscow).\n",
    "\n",
    "To solve this task we have analyzed the South regions of Moscow city and all administrative districts of Yerevan city.\n",
    "\n",
    "For Moscow we decided to take the metro stations as control points of our analysis, since the metro is the basis for the city's general transport infrastructure and provides accessibility to all parts of the city.\n",
    "\n",
    "For Yerevan as a control points we have chosen the centers of administrative regions.\n",
    "\n",
    "In this capstone project we have gone with these 5 steps:\n",
    "\n",
    "1. Explore the neighborhoods of south of Moscow and all neighborhoods of Yerevan (Foursquare API)\n",
    "\n",
    "2. Join this datasets each other,\n",
    "\n",
    "3. With k-means clustering method divide explored areas to 5 clusters,\n",
    "\n",
    "4. Find region in Yerevan city that includes in the same cluster with Moscow apartment of our client."
   ]
  },
  {
   "cell_type": "markdown",
   "metadata": {},
   "source": [
    "Data"
   ]
  },
  {
   "cell_type": "markdown",
   "metadata": {},
   "source": [
    "For our analyze we need data from two cities – Moscow and Yerevan.\n",
    "\n",
    "Moscow data\n",
    "\n",
    "As we put emphasis on metro station locations and neighborhoods, we need data about all stations of Moscow. This type of information we can get from Wikipedia page (https://en.wikipedia.org/wiki/List_of_Moscow_Metro_stations) with “Beautiful Soup”.\n",
    "\n",
    "After gathering information we will clean it and filter stations that included in South regions.\n",
    "\n",
    "Yerevan data\n",
    "\n",
    "Information about Yerevan`s administrative regions we also can gather from Wikipedia page.\n",
    "\n",
    "Our next step will be to find correct locations of chosen points with Google geocoding API.\n",
    "\n",
    "Next we will join to each other these two datasets and with Foursquare API find all neighborhood venues to each point of our dataset.\n",
    "\n",
    "Next we will use K-means clustering method to divide dataset to clusters and find region in Yerevan that includes in the same cluster with Moscow apartment of our client."
   ]
  }
 ],
 "metadata": {
  "kernelspec": {
   "display_name": "Python 3",
   "language": "python",
   "name": "python3"
  },
  "language_info": {
   "codemirror_mode": {
    "name": "ipython",
    "version": 3
   },
   "file_extension": ".py",
   "mimetype": "text/x-python",
   "name": "python",
   "nbconvert_exporter": "python",
   "pygments_lexer": "ipython3",
   "version": "3.6.5"
  }
 },
 "nbformat": 4,
 "nbformat_minor": 2
}
