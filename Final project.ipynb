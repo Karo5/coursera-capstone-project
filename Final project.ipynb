{
 "cells": [
  {
   "cell_type": "markdown",
   "metadata": {},
   "source": [
    "# Business problem"
   ]
  },
  {
   "cell_type": "markdown",
   "metadata": {},
   "source": [
    " In my final project we want to explore the Moscow and Yerevan city neighborhoods.\n",
    "We have formed following task: suppose we are representing a consulting agency that helps businesses and individuals to find right location for their business and living. \n",
    "  \n",
    "  We had an order from a person who wants to relocate from Moscow (Russian Federation) to Yerevan (Republic of Armenia) and want to find relevant location for buying an apartment. The best location for him will be place that is maximum similar with his Moscow apartment neighborhoods (Marino - district of South-Eastern Administrative region of the federal city of Moscow).\n",
    "  \n",
    "  To solve this task we have analyzed the South regions of Moscow city and all administrative districts of Yerevan city. \n",
    "For Moscow we decided to take the metro stations as control points of our analysis, since the metro is the basis for the city's general transport infrastructure and provides accessibility to all parts of the city.\n",
    "  \n",
    "  For Yerevan as a control points we have chosen the centers of administrative regions. \n",
    "In this capstone project we have gone with these 5 steps:\n",
    "\n",
    "1.\tExplore the neighborhoods of south of Moscow and all neighborhoods of Yerevan (Foursquare API)\n",
    "2.\tJoin this datasets each other,\n",
    "3.\tWith k-means clustering  method divide explored areas to 5 clusters,\n",
    "4.\tFind region in Yerevan city that includes in the same cluster with Moscow apartment of our client.\n"
   ]
  },
  {
   "cell_type": "markdown",
   "metadata": {},
   "source": [
    "# Data"
   ]
  },
  {
   "cell_type": "markdown",
   "metadata": {},
   "source": [
    "For our analyze we need data from two cities – Moscow and Yerevan.\n",
    "\n",
    "### Moscow data\n",
    "\n",
    "As we put emphasis on metro station locations and neighborhoods, we need data about all stations of Moscow. This type of information we can get from Wikipedia page (https://en.wikipedia.org/wiki/List_of_Moscow_Metro_stations) with “Beautiful Soup”.\n",
    "After gathering information we will clean it and filter stations that included in South regions.\n",
    "\n",
    "###  Yerevan data \n",
    "Information about Yerevan`s administrative regions we also can gather from Wikipedia page.\n",
    "There are 12 administrative districts in Yerevan and for our analysis we will use only 7 out of them. We will use only that districts which is more close to city center. \n"
   ]
  },
  {
   "cell_type": "markdown",
   "metadata": {},
   "source": [
    "# Methodology"
   ]
  },
  {
   "cell_type": "markdown",
   "metadata": {},
   "source": [
    "To compare the similarities of two cities, we decided to explore neighborhoods, segment them, and group them into clusters to find similar neighborhoods in a city like Moscow and Yerevan. To be able to do that, we need to cluster data which is a form of unsupervised machine learning.\n",
    "\n",
    "We will firstly find correct locations of chosen points with Google geocoding API.\n",
    "Next we will explore neighborhoods in both cities on Foursquare API and get the most common venue categories in each neighborhood. \n",
    "\n",
    "Next we will use K-means clustering method to divide dataset to  clusters and find region in Yerevan that includes in the same cluster with Moscow apartment of our client."
   ]
  },
  {
   "cell_type": "markdown",
   "metadata": {},
   "source": [
    "# Result"
   ]
  },
  {
   "cell_type": "markdown",
   "metadata": {},
   "source": [
    "The clusters results of two cities are shown on Figure 1. \n",
    "\n",
    "![Figure](1.png)\n",
    "\n",
    "As we can see all 17 neighborhoods of Moscow city are included in the one cluster (Cluster 2 ) and from Yerevan city in the same cluster included only two districts (Kentron and Arabkir).\n",
    "This means that in Yerevan we can recommend at least two districts to our client. \n",
    "For a more thorough recommendation, we also studied the following factors:\n",
    "1.\tThe price of the real estate in Yerevan\n",
    "For chosen neighborhoods in Yerevan real estate price is (for square meter ):\n",
    "\n",
    "•\tKentron - 1000 $. \n",
    "\n",
    "•\tArabkir - 750 $.\n",
    "\n",
    "2.\tTransport accessibility\n",
    "Since our client does not drive a car, transport accessibility is very important for him. \n",
    "\n",
    "We evaluated the selected districts from the standpoint of transport accessibility and found that there are metro stations in both districts and a developed transport network. \n",
    "It should be noted that in the area of Kentron more loaded transport traffic.\n"
   ]
  },
  {
   "cell_type": "markdown",
   "metadata": {},
   "source": [
    "# Conclusion"
   ]
  },
  {
   "cell_type": "markdown",
   "metadata": {},
   "source": [
    "In this project, through a k-means cluster algorithm we separate the neighborhood into 5 clusters, which have similar neighborhoods around them. We discover that we can recommend our client at least 2 district in Yerevan city to relocate.\n",
    "\n",
    "This two districts have similar neighborhoods with our client Moscow apartment neighborhoods (Marino - district of South-Eastern Administrative region of the federal city of Moscow).\n",
    "Thus, based on our research, we can recommend our client to buy an apartment in the Arabkir area. \n",
    "\n",
    "Our choice is based on three factors - neighborhood similarity, real estate price and transport accessibility.\n",
    "\n",
    "\n"
   ]
  }
 ],
 "metadata": {
  "kernelspec": {
   "display_name": "Python 3",
   "language": "python",
   "name": "python3"
  },
  "language_info": {
   "codemirror_mode": {
    "name": "ipython",
    "version": 3
   },
   "file_extension": ".py",
   "mimetype": "text/x-python",
   "name": "python",
   "nbconvert_exporter": "python",
   "pygments_lexer": "ipython3",
   "version": "3.6.5"
  }
 },
 "nbformat": 4,
 "nbformat_minor": 2
}
